{
 "cells": [
  {
   "cell_type": "code",
   "execution_count": 1,
   "id": "450dce9f",
   "metadata": {},
   "outputs": [],
   "source": [
    "import pandas as pd\n",
    "import numpy as np\n",
    "import pickle\n",
    "import spacy"
   ]
  },
  {
   "cell_type": "code",
   "execution_count": 2,
   "id": "32b8d9e3",
   "metadata": {
    "scrolled": false
   },
   "outputs": [
    {
     "data": {
      "text/html": [
       "<div>\n",
       "<style scoped>\n",
       "    .dataframe tbody tr th:only-of-type {\n",
       "        vertical-align: middle;\n",
       "    }\n",
       "\n",
       "    .dataframe tbody tr th {\n",
       "        vertical-align: top;\n",
       "    }\n",
       "\n",
       "    .dataframe thead th {\n",
       "        text-align: right;\n",
       "    }\n",
       "</style>\n",
       "<table border=\"1\" class=\"dataframe\">\n",
       "  <thead>\n",
       "    <tr style=\"text-align: right;\">\n",
       "      <th></th>\n",
       "      <th>text</th>\n",
       "      <th>OKPD2</th>\n",
       "    </tr>\n",
       "  </thead>\n",
       "  <tbody>\n",
       "    <tr>\n",
       "      <th>0</th>\n",
       "      <td>Укроп свежий</td>\n",
       "      <td>01.13.19.000</td>\n",
       "    </tr>\n",
       "    <tr>\n",
       "      <th>1</th>\n",
       "      <td>Яблоки</td>\n",
       "      <td>01.24.10.000</td>\n",
       "    </tr>\n",
       "    <tr>\n",
       "      <th>2</th>\n",
       "      <td>Капуста брокколи</td>\n",
       "      <td>01.13.13.000</td>\n",
       "    </tr>\n",
       "    <tr>\n",
       "      <th>3</th>\n",
       "      <td>Морковь столовая</td>\n",
       "      <td>01.13.41.110</td>\n",
       "    </tr>\n",
       "    <tr>\n",
       "      <th>4</th>\n",
       "      <td>Яйца куриные в скорлупе свежие</td>\n",
       "      <td>01.47.21.000</td>\n",
       "    </tr>\n",
       "    <tr>\n",
       "      <th>...</th>\n",
       "      <td>...</td>\n",
       "      <td>...</td>\n",
       "    </tr>\n",
       "    <tr>\n",
       "      <th>8558341</th>\n",
       "      <td>Ш-15 (Р-152) Ежегодное освидетельствование\\r\\n</td>\n",
       "      <td>99.00.10.000</td>\n",
       "    </tr>\n",
       "    <tr>\n",
       "      <th>8558342</th>\n",
       "      <td>КПЛ-1 (Р-99) Наружное освидетельствование сосу...</td>\n",
       "      <td>99.00.10.000</td>\n",
       "    </tr>\n",
       "    <tr>\n",
       "      <th>8558343</th>\n",
       "      <td>ЖУЛАН (391А) Внеочередное освидетельствование....</td>\n",
       "      <td>99.00.10.000</td>\n",
       "    </tr>\n",
       "    <tr>\n",
       "      <th>8558344</th>\n",
       "      <td>ДТС-2 (306К) Ежегодное освидетельствование\\r\\n</td>\n",
       "      <td>99.00.10.000</td>\n",
       "    </tr>\n",
       "    <tr>\n",
       "      <th>8558345</th>\n",
       "      <td>КАМСКИЙ-212 (92-035) I этап очередного освидет...</td>\n",
       "      <td>99.00.10.000</td>\n",
       "    </tr>\n",
       "  </tbody>\n",
       "</table>\n",
       "<p>8558346 rows × 2 columns</p>\n",
       "</div>"
      ],
      "text/plain": [
       "                                                      text         OKPD2\n",
       "0                                             Укроп свежий  01.13.19.000\n",
       "1                                                   Яблоки  01.24.10.000\n",
       "2                                         Капуста брокколи  01.13.13.000\n",
       "3                                         Морковь столовая  01.13.41.110\n",
       "4                           Яйца куриные в скорлупе свежие  01.47.21.000\n",
       "...                                                    ...           ...\n",
       "8558341     Ш-15 (Р-152) Ежегодное освидетельствование\\r\\n  99.00.10.000\n",
       "8558342  КПЛ-1 (Р-99) Наружное освидетельствование сосу...  99.00.10.000\n",
       "8558343  ЖУЛАН (391А) Внеочередное освидетельствование....  99.00.10.000\n",
       "8558344     ДТС-2 (306К) Ежегодное освидетельствование\\r\\n  99.00.10.000\n",
       "8558345  КАМСКИЙ-212 (92-035) I этап очередного освидет...  99.00.10.000\n",
       "\n",
       "[8558346 rows x 2 columns]"
      ]
     },
     "execution_count": 2,
     "metadata": {},
     "output_type": "execute_result"
    }
   ],
   "source": [
    "df = pd.read_pickle('goszakupki_okpd_data.pickle')\n",
    "df"
   ]
  },
  {
   "cell_type": "markdown",
   "id": "70d9851e",
   "metadata": {},
   "source": [
    "##### Анализируя замечаем что много пустых классов, где количество записей по конкретному коду  < 10, что будет сильно мешать алгоритму, так что уберём эти данные "
   ]
  },
  {
   "cell_type": "code",
   "execution_count": 3,
   "id": "0bb401e1",
   "metadata": {
    "scrolled": false
   },
   "outputs": [
    {
     "data": {
      "text/html": [
       "<div>\n",
       "<style scoped>\n",
       "    .dataframe tbody tr th:only-of-type {\n",
       "        vertical-align: middle;\n",
       "    }\n",
       "\n",
       "    .dataframe tbody tr th {\n",
       "        vertical-align: top;\n",
       "    }\n",
       "\n",
       "    .dataframe thead th {\n",
       "        text-align: right;\n",
       "    }\n",
       "</style>\n",
       "<table border=\"1\" class=\"dataframe\">\n",
       "  <thead>\n",
       "    <tr style=\"text-align: right;\">\n",
       "      <th></th>\n",
       "      <th>text</th>\n",
       "    </tr>\n",
       "    <tr>\n",
       "      <th>OKPD2</th>\n",
       "      <th></th>\n",
       "    </tr>\n",
       "  </thead>\n",
       "  <tbody>\n",
       "    <tr>\n",
       "      <th>10.81.14.110</th>\n",
       "      <td>1</td>\n",
       "    </tr>\n",
       "    <tr>\n",
       "      <th>10.82.23.125</th>\n",
       "      <td>1</td>\n",
       "    </tr>\n",
       "    <tr>\n",
       "      <th>13.92.15.130</th>\n",
       "      <td>1</td>\n",
       "    </tr>\n",
       "    <tr>\n",
       "      <th>30.11.32.114</th>\n",
       "      <td>1</td>\n",
       "    </tr>\n",
       "    <tr>\n",
       "      <th>10.12.40.119</th>\n",
       "      <td>1</td>\n",
       "    </tr>\n",
       "    <tr>\n",
       "      <th>...</th>\n",
       "      <td>...</td>\n",
       "    </tr>\n",
       "    <tr>\n",
       "      <th>71.12.40.129</th>\n",
       "      <td>119091</td>\n",
       "    </tr>\n",
       "    <tr>\n",
       "      <th>80.10.12.000</th>\n",
       "      <td>119196</td>\n",
       "    </tr>\n",
       "    <tr>\n",
       "      <th>36.00.20.130</th>\n",
       "      <td>129134</td>\n",
       "    </tr>\n",
       "    <tr>\n",
       "      <th>42.11.20.300</th>\n",
       "      <td>165264</td>\n",
       "    </tr>\n",
       "    <tr>\n",
       "      <th>29.32.30.390</th>\n",
       "      <td>241739</td>\n",
       "    </tr>\n",
       "  </tbody>\n",
       "</table>\n",
       "<p>8883 rows × 1 columns</p>\n",
       "</div>"
      ],
      "text/plain": [
       "                text\n",
       "OKPD2               \n",
       "10.81.14.110       1\n",
       "10.82.23.125       1\n",
       "13.92.15.130       1\n",
       "30.11.32.114       1\n",
       "10.12.40.119       1\n",
       "...              ...\n",
       "71.12.40.129  119091\n",
       "80.10.12.000  119196\n",
       "36.00.20.130  129134\n",
       "42.11.20.300  165264\n",
       "29.32.30.390  241739\n",
       "\n",
       "[8883 rows x 1 columns]"
      ]
     },
     "execution_count": 3,
     "metadata": {},
     "output_type": "execute_result"
    }
   ],
   "source": [
    "dsfg = df.groupby('OKPD2').count()\n",
    "dsfg.sort_values('text')"
   ]
  },
  {
   "cell_type": "markdown",
   "id": "cf88dfc7",
   "metadata": {},
   "source": [
    "Самая частовстречаемая кодировка - ***Части и принадлежности для автотранспортных средств прочие, не включенные в другие группировки***"
   ]
  },
  {
   "cell_type": "code",
   "execution_count": 4,
   "id": "6fd6e6b9",
   "metadata": {
    "scrolled": true
   },
   "outputs": [
    {
     "data": {
      "text/html": [
       "<div>\n",
       "<style scoped>\n",
       "    .dataframe tbody tr th:only-of-type {\n",
       "        vertical-align: middle;\n",
       "    }\n",
       "\n",
       "    .dataframe tbody tr th {\n",
       "        vertical-align: top;\n",
       "    }\n",
       "\n",
       "    .dataframe thead th {\n",
       "        text-align: right;\n",
       "    }\n",
       "</style>\n",
       "<table border=\"1\" class=\"dataframe\">\n",
       "  <thead>\n",
       "    <tr style=\"text-align: right;\">\n",
       "      <th></th>\n",
       "      <th>text</th>\n",
       "      <th>OKPD2</th>\n",
       "    </tr>\n",
       "  </thead>\n",
       "  <tbody>\n",
       "    <tr>\n",
       "      <th>3094920</th>\n",
       "      <td>Хомут  силовой (131-139) 26мм (М8х70)</td>\n",
       "      <td>29.32.30.390</td>\n",
       "    </tr>\n",
       "    <tr>\n",
       "      <th>3094921</th>\n",
       "      <td>6522-3501125 кронштейн</td>\n",
       "      <td>29.32.30.390</td>\n",
       "    </tr>\n",
       "    <tr>\n",
       "      <th>3094922</th>\n",
       "      <td>Подшипник редуктора моста МАЗ-5440,6430,5516А5...</td>\n",
       "      <td>29.32.30.390</td>\n",
       "    </tr>\n",
       "    <tr>\n",
       "      <th>3094923</th>\n",
       "      <td>Пробка поддона двигателя _ (М28*1,5) с магнитом</td>\n",
       "      <td>29.32.30.390</td>\n",
       "    </tr>\n",
       "    <tr>\n",
       "      <th>3094924</th>\n",
       "      <td>Антифриз</td>\n",
       "      <td>29.32.30.390</td>\n",
       "    </tr>\n",
       "  </tbody>\n",
       "</table>\n",
       "</div>"
      ],
      "text/plain": [
       "                                                      text         OKPD2\n",
       "3094920              Хомут  силовой (131-139) 26мм (М8х70)  29.32.30.390\n",
       "3094921                             6522-3501125 кронштейн  29.32.30.390\n",
       "3094922  Подшипник редуктора моста МАЗ-5440,6430,5516А5...  29.32.30.390\n",
       "3094923    Пробка поддона двигателя _ (М28*1,5) с магнитом  29.32.30.390\n",
       "3094924                                           Антифриз  29.32.30.390"
      ]
     },
     "execution_count": 4,
     "metadata": {},
     "output_type": "execute_result"
    }
   ],
   "source": [
    "df[df['OKPD2']=='29.32.30.390'].head()"
   ]
  },
  {
   "cell_type": "code",
   "execution_count": null,
   "id": "f7665e83",
   "metadata": {},
   "outputs": [],
   "source": []
  },
  {
   "cell_type": "code",
   "execution_count": 5,
   "id": "6e7f6134",
   "metadata": {
    "scrolled": false
   },
   "outputs": [
    {
     "data": {
      "text/plain": [
       "<Axes: xlabel='OKPD2'>"
      ]
     },
     "execution_count": 5,
     "metadata": {},
     "output_type": "execute_result"
    },
    {
     "data": {
      "image/png": "[encoded data removed]",
      "text/plain": [
       "<Figure size 640x480 with 1 Axes>"
      ]
     },
     "metadata": {},
     "output_type": "display_data"
    }
   ],
   "source": [
    "dsfg[dsfg['text'] > 10]['text'].plot()"
   ]
  },
  {
   "cell_type": "markdown",
   "id": "b5c4c563",
   "metadata": {},
   "source": [
    "Статистическое описание данных после группировки"
   ]
  },
  {
   "cell_type": "code",
   "execution_count": 6,
   "id": "2c39cad8",
   "metadata": {
    "scrolled": false
   },
   "outputs": [
    {
     "data": {
      "text/html": [
       "<div>\n",
       "<style scoped>\n",
       "    .dataframe tbody tr th:only-of-type {\n",
       "        vertical-align: middle;\n",
       "    }\n",
       "\n",
       "    .dataframe tbody tr th {\n",
       "        vertical-align: top;\n",
       "    }\n",
       "\n",
       "    .dataframe thead th {\n",
       "        text-align: right;\n",
       "    }\n",
       "</style>\n",
       "<table border=\"1\" class=\"dataframe\">\n",
       "  <thead>\n",
       "    <tr style=\"text-align: right;\">\n",
       "      <th></th>\n",
       "      <th>text</th>\n",
       "    </tr>\n",
       "  </thead>\n",
       "  <tbody>\n",
       "    <tr>\n",
       "      <th>count</th>\n",
       "      <td>5606.000000</td>\n",
       "    </tr>\n",
       "    <tr>\n",
       "      <th>mean</th>\n",
       "      <td>1524.461827</td>\n",
       "    </tr>\n",
       "    <tr>\n",
       "      <th>std</th>\n",
       "      <td>7828.713467</td>\n",
       "    </tr>\n",
       "    <tr>\n",
       "      <th>min</th>\n",
       "      <td>11.000000</td>\n",
       "    </tr>\n",
       "    <tr>\n",
       "      <th>25%</th>\n",
       "      <td>32.000000</td>\n",
       "    </tr>\n",
       "    <tr>\n",
       "      <th>50%</th>\n",
       "      <td>104.000000</td>\n",
       "    </tr>\n",
       "    <tr>\n",
       "      <th>75%</th>\n",
       "      <td>489.750000</td>\n",
       "    </tr>\n",
       "    <tr>\n",
       "      <th>max</th>\n",
       "      <td>241739.000000</td>\n",
       "    </tr>\n",
       "  </tbody>\n",
       "</table>\n",
       "</div>"
      ],
      "text/plain": [
       "                text\n",
       "count    5606.000000\n",
       "mean     1524.461827\n",
       "std      7828.713467\n",
       "min        11.000000\n",
       "25%        32.000000\n",
       "50%       104.000000\n",
       "75%       489.750000\n",
       "max    241739.000000"
      ]
     },
     "execution_count": 6,
     "metadata": {},
     "output_type": "execute_result"
    }
   ],
   "source": [
    "dsfg[dsfg['text'] > 10].describe()"
   ]
  },
  {
   "cell_type": "code",
   "execution_count": null,
   "id": "bd6d4762",
   "metadata": {},
   "outputs": [],
   "source": []
  },
  {
   "cell_type": "markdown",
   "id": "c5b7d355",
   "metadata": {},
   "source": [
    "Формальная группировка (выведена в отдельный файл)"
   ]
  },
  {
   "cell_type": "code",
   "execution_count": 7,
   "id": "9a186c07",
   "metadata": {},
   "outputs": [
    {
     "name": "stdout",
     "output_type": "stream",
     "text": [
      "OKPD2\n",
      "29.32.30.390    241739\n",
      "42.11.20.300    165264\n",
      "36.00.20.130    129134\n",
      "80.10.12.000    119196\n",
      "71.12.40.129    119091\n",
      "Name: count, dtype: int64\n"
     ]
    },
    {
     "data": {
      "text/html": [
       "<div>\n",
       "<style scoped>\n",
       "    .dataframe tbody tr th:only-of-type {\n",
       "        vertical-align: middle;\n",
       "    }\n",
       "\n",
       "    .dataframe tbody tr th {\n",
       "        vertical-align: top;\n",
       "    }\n",
       "\n",
       "    .dataframe thead th {\n",
       "        text-align: right;\n",
       "    }\n",
       "</style>\n",
       "<table border=\"1\" class=\"dataframe\">\n",
       "  <thead>\n",
       "    <tr style=\"text-align: right;\">\n",
       "      <th></th>\n",
       "      <th>text</th>\n",
       "      <th>OKPD2</th>\n",
       "    </tr>\n",
       "  </thead>\n",
       "  <tbody>\n",
       "    <tr>\n",
       "      <th>0</th>\n",
       "      <td>Укроп свежий</td>\n",
       "      <td>01.13.19.000</td>\n",
       "    </tr>\n",
       "    <tr>\n",
       "      <th>1</th>\n",
       "      <td>Яблоки</td>\n",
       "      <td>01.24.10.000</td>\n",
       "    </tr>\n",
       "    <tr>\n",
       "      <th>2</th>\n",
       "      <td>Капуста брокколи</td>\n",
       "      <td>01.13.13.000</td>\n",
       "    </tr>\n",
       "    <tr>\n",
       "      <th>3</th>\n",
       "      <td>Морковь столовая</td>\n",
       "      <td>01.13.41.110</td>\n",
       "    </tr>\n",
       "    <tr>\n",
       "      <th>4</th>\n",
       "      <td>Яйца куриные в скорлупе свежие</td>\n",
       "      <td>01.47.21.000</td>\n",
       "    </tr>\n",
       "  </tbody>\n",
       "</table>\n",
       "</div>"
      ],
      "text/plain": [
       "                             text         OKPD2\n",
       "0                    Укроп свежий  01.13.19.000\n",
       "1                          Яблоки  01.24.10.000\n",
       "2                Капуста брокколи  01.13.13.000\n",
       "3                Морковь столовая  01.13.41.110\n",
       "4  Яйца куриные в скорлупе свежие  01.47.21.000"
      ]
     },
     "execution_count": 7,
     "metadata": {},
     "output_type": "execute_result"
    }
   ],
   "source": [
    "# Сначала подсчитаем, сколько раз каждое значение OKPD2 встречается в таблице\n",
    "counts = df['OKPD2'].value_counts()\n",
    "print(counts.head())\n",
    "# Теперь отфильтруем counts, чтобы оставить только значения с более чем 10 вхождениями\n",
    "filtered_counts = counts[counts > 10]\n",
    "\n",
    "# Фильтруем исходный df, оставляя только строки с OKPD2, которые есть в filtered_counts\n",
    "filtered_df = df[df['OKPD2'].isin(filtered_counts.index)].copy()\n",
    "\n",
    "# В результате filtered_df содержит только те записи, где значение OKPD2 встречается более 10 раз.\n",
    "filtered_df.head()"
   ]
  },
  {
   "cell_type": "code",
   "execution_count": 8,
   "id": "aec20ffc",
   "metadata": {
    "scrolled": false
   },
   "outputs": [
    {
     "data": {
      "text/html": [
       "<div>\n",
       "<style scoped>\n",
       "    .dataframe tbody tr th:only-of-type {\n",
       "        vertical-align: middle;\n",
       "    }\n",
       "\n",
       "    .dataframe tbody tr th {\n",
       "        vertical-align: top;\n",
       "    }\n",
       "\n",
       "    .dataframe thead th {\n",
       "        text-align: right;\n",
       "    }\n",
       "</style>\n",
       "<table border=\"1\" class=\"dataframe\">\n",
       "  <thead>\n",
       "    <tr style=\"text-align: right;\">\n",
       "      <th></th>\n",
       "      <th>text</th>\n",
       "    </tr>\n",
       "    <tr>\n",
       "      <th>OKPD2</th>\n",
       "      <th></th>\n",
       "    </tr>\n",
       "  </thead>\n",
       "  <tbody>\n",
       "    <tr>\n",
       "      <th>28.25.11.112</th>\n",
       "      <td>11</td>\n",
       "    </tr>\n",
       "    <tr>\n",
       "      <th>10.84.23.170</th>\n",
       "      <td>11</td>\n",
       "    </tr>\n",
       "    <tr>\n",
       "      <th>30.20.40.171</th>\n",
       "      <td>11</td>\n",
       "    </tr>\n",
       "    <tr>\n",
       "      <th>25.99.12.120</th>\n",
       "      <td>11</td>\n",
       "    </tr>\n",
       "    <tr>\n",
       "      <th>10.86.10.122</th>\n",
       "      <td>11</td>\n",
       "    </tr>\n",
       "    <tr>\n",
       "      <th>...</th>\n",
       "      <td>...</td>\n",
       "    </tr>\n",
       "    <tr>\n",
       "      <th>71.12.40.129</th>\n",
       "      <td>119091</td>\n",
       "    </tr>\n",
       "    <tr>\n",
       "      <th>80.10.12.000</th>\n",
       "      <td>119196</td>\n",
       "    </tr>\n",
       "    <tr>\n",
       "      <th>36.00.20.130</th>\n",
       "      <td>129134</td>\n",
       "    </tr>\n",
       "    <tr>\n",
       "      <th>42.11.20.300</th>\n",
       "      <td>165264</td>\n",
       "    </tr>\n",
       "    <tr>\n",
       "      <th>29.32.30.390</th>\n",
       "      <td>241739</td>\n",
       "    </tr>\n",
       "  </tbody>\n",
       "</table>\n",
       "<p>5606 rows × 1 columns</p>\n",
       "</div>"
      ],
      "text/plain": [
       "                text\n",
       "OKPD2               \n",
       "28.25.11.112      11\n",
       "10.84.23.170      11\n",
       "30.20.40.171      11\n",
       "25.99.12.120      11\n",
       "10.86.10.122      11\n",
       "...              ...\n",
       "71.12.40.129  119091\n",
       "80.10.12.000  119196\n",
       "36.00.20.130  129134\n",
       "42.11.20.300  165264\n",
       "29.32.30.390  241739\n",
       "\n",
       "[5606 rows x 1 columns]"
      ]
     },
     "execution_count": 8,
     "metadata": {},
     "output_type": "execute_result"
    }
   ],
   "source": [
    "# проверим что всё правильно\n",
    "filtered_df_group = filtered_df.groupby('OKPD2').count()\n",
    "filtered_df_group.sort_values('text')"
   ]
  },
  {
   "cell_type": "code",
   "execution_count": null,
   "id": "5541481b",
   "metadata": {},
   "outputs": [],
   "source": []
  },
  {
   "cell_type": "markdown",
   "id": "4d9d5b86",
   "metadata": {},
   "source": [
    "Подготовим два файла:  \n",
    "1. Просто 200к записей +- равномерно по первому коду классификатора\n",
    "2. 200к записей == 100 наиболей встречаемых классов, из них по 1к записей в каждом "
   ]
  },
  {
   "cell_type": "code",
   "execution_count": 9,
   "id": "e4aab93b",
   "metadata": {
    "scrolled": true
   },
   "outputs": [
    {
     "data": {
      "text/html": [
       "<div>\n",
       "<style scoped>\n",
       "    .dataframe tbody tr th:only-of-type {\n",
       "        vertical-align: middle;\n",
       "    }\n",
       "\n",
       "    .dataframe tbody tr th {\n",
       "        vertical-align: top;\n",
       "    }\n",
       "\n",
       "    .dataframe thead th {\n",
       "        text-align: right;\n",
       "    }\n",
       "</style>\n",
       "<table border=\"1\" class=\"dataframe\">\n",
       "  <thead>\n",
       "    <tr style=\"text-align: right;\">\n",
       "      <th></th>\n",
       "      <th>text</th>\n",
       "      <th>OKPD2</th>\n",
       "      <th>new_code</th>\n",
       "    </tr>\n",
       "  </thead>\n",
       "  <tbody>\n",
       "    <tr>\n",
       "      <th>0</th>\n",
       "      <td>Укроп свежий</td>\n",
       "      <td>01.13.19.000</td>\n",
       "      <td>01</td>\n",
       "    </tr>\n",
       "    <tr>\n",
       "      <th>1</th>\n",
       "      <td>Яблоки</td>\n",
       "      <td>01.24.10.000</td>\n",
       "      <td>01</td>\n",
       "    </tr>\n",
       "    <tr>\n",
       "      <th>2</th>\n",
       "      <td>Капуста брокколи</td>\n",
       "      <td>01.13.13.000</td>\n",
       "      <td>01</td>\n",
       "    </tr>\n",
       "    <tr>\n",
       "      <th>3</th>\n",
       "      <td>Морковь столовая</td>\n",
       "      <td>01.13.41.110</td>\n",
       "      <td>01</td>\n",
       "    </tr>\n",
       "    <tr>\n",
       "      <th>4</th>\n",
       "      <td>Яйца куриные в скорлупе свежие</td>\n",
       "      <td>01.47.21.000</td>\n",
       "      <td>01</td>\n",
       "    </tr>\n",
       "  </tbody>\n",
       "</table>\n",
       "</div>"
      ],
      "text/plain": [
       "                             text         OKPD2 new_code\n",
       "0                    Укроп свежий  01.13.19.000       01\n",
       "1                          Яблоки  01.24.10.000       01\n",
       "2                Капуста брокколи  01.13.13.000       01\n",
       "3                Морковь столовая  01.13.41.110       01\n",
       "4  Яйца куриные в скорлупе свежие  01.47.21.000       01"
      ]
     },
     "execution_count": 9,
     "metadata": {},
     "output_type": "execute_result"
    }
   ],
   "source": [
    "filtered_df['new_code'] = filtered_df['OKPD2'].apply(lambda x: x.split('.')[0])\n",
    "filtered_df.head()"
   ]
  },
  {
   "cell_type": "code",
   "execution_count": 10,
   "id": "1a8f20d5",
   "metadata": {},
   "outputs": [],
   "source": [
    "filtered_df_only_1_step = filtered_df.drop('OKPD2', axis=1).copy()"
   ]
  },
  {
   "cell_type": "code",
   "execution_count": 11,
   "id": "33c6fe58",
   "metadata": {
    "scrolled": true
   },
   "outputs": [
    {
     "data": {
      "text/html": [
       "<div>\n",
       "<style scoped>\n",
       "    .dataframe tbody tr th:only-of-type {\n",
       "        vertical-align: middle;\n",
       "    }\n",
       "\n",
       "    .dataframe tbody tr th {\n",
       "        vertical-align: top;\n",
       "    }\n",
       "\n",
       "    .dataframe thead th {\n",
       "        text-align: right;\n",
       "    }\n",
       "</style>\n",
       "<table border=\"1\" class=\"dataframe\">\n",
       "  <thead>\n",
       "    <tr style=\"text-align: right;\">\n",
       "      <th></th>\n",
       "      <th>text</th>\n",
       "      <th>new_code</th>\n",
       "    </tr>\n",
       "  </thead>\n",
       "  <tbody>\n",
       "    <tr>\n",
       "      <th>4004427</th>\n",
       "      <td>Термостат суховоздушный ТВ-80-1</td>\n",
       "      <td>33</td>\n",
       "    </tr>\n",
       "    <tr>\n",
       "      <th>4551450</th>\n",
       "      <td>Услуги по холодному водоснабжению</td>\n",
       "      <td>36</td>\n",
       "    </tr>\n",
       "    <tr>\n",
       "      <th>6579286</th>\n",
       "      <td>СС КонсультантСудебнаяПрактика: Суды Москвы и ...</td>\n",
       "      <td>62</td>\n",
       "    </tr>\n",
       "    <tr>\n",
       "      <th>1028808</th>\n",
       "      <td>Короб архивный на завязках № 1</td>\n",
       "      <td>17</td>\n",
       "    </tr>\n",
       "    <tr>\n",
       "      <th>2281960</th>\n",
       "      <td>Степлер</td>\n",
       "      <td>25</td>\n",
       "    </tr>\n",
       "  </tbody>\n",
       "</table>\n",
       "</div>"
      ],
      "text/plain": [
       "                                                      text new_code\n",
       "4004427                    Термостат суховоздушный ТВ-80-1       33\n",
       "4551450                  Услуги по холодному водоснабжению       36\n",
       "6579286  СС КонсультантСудебнаяПрактика: Суды Москвы и ...       62\n",
       "1028808                     Короб архивный на завязках № 1       17\n",
       "2281960                                            Степлер       25"
      ]
     },
     "execution_count": 11,
     "metadata": {},
     "output_type": "execute_result"
    }
   ],
   "source": [
    "random_sample = filtered_df_only_1_step.sample(n=200000, random_state=1019)\n",
    "random_sample.head()"
   ]
  },
  {
   "cell_type": "markdown",
   "id": "8c45dc94",
   "metadata": {},
   "source": [
    "Проверка распределения random_sample"
   ]
  },
  {
   "cell_type": "code",
   "execution_count": 12,
   "id": "dec4743d",
   "metadata": {
    "scrolled": true
   },
   "outputs": [
    {
     "data": {
      "text/plain": [
       "new_code\n",
       "87       7\n",
       "99       9\n",
       "50      11\n",
       "69      26\n",
       "03      27\n",
       "      ... \n",
       "01    5902\n",
       "71    5916\n",
       "81    5945\n",
       "20    5950\n",
       "17    5971\n",
       "Name: text, Length: 82, dtype: int64"
      ]
     },
     "execution_count": 12,
     "metadata": {},
     "output_type": "execute_result"
    }
   ],
   "source": [
    "random_sample.groupby('new_code')['text'].count().sort_values()"
   ]
  },
  {
   "cell_type": "code",
   "execution_count": null,
   "id": "a6f5246b",
   "metadata": {},
   "outputs": [],
   "source": [
    "#random_sample.to_pickle(\"random_sample_200k.pickle\")"
   ]
  },
  {
   "cell_type": "code",
   "execution_count": null,
   "id": "8032090b",
   "metadata": {
    "scrolled": false
   },
   "outputs": [],
   "source": []
  },
  {
   "cell_type": "code",
   "execution_count": null,
   "id": "36960531",
   "metadata": {},
   "outputs": [],
   "source": []
  },
  {
   "cell_type": "code",
   "execution_count": 13,
   "id": "cbf6db7c",
   "metadata": {},
   "outputs": [],
   "source": [
    "filtered_df = filtered_df.drop('new_code', axis=1)"
   ]
  },
  {
   "cell_type": "code",
   "execution_count": 14,
   "id": "f940c5aa",
   "metadata": {},
   "outputs": [],
   "source": [
    "top_100_classes = filtered_df['OKPD2'].value_counts().nlargest(100).index"
   ]
  },
  {
   "cell_type": "code",
   "execution_count": 15,
   "id": "67ff8e0a",
   "metadata": {},
   "outputs": [],
   "source": [
    "samples_per_class = 2000\n",
    "final_sample = pd.DataFrame()\n",
    "\n",
    "for class_value in top_100_classes:\n",
    "    class_sample = filtered_df[filtered_df['OKPD2'] == class_value].sample(n=samples_per_class, random_state=1)\n",
    "    final_sample = pd.concat([final_sample, class_sample], ignore_index=True)"
   ]
  },
  {
   "cell_type": "code",
   "execution_count": 16,
   "id": "679d83e4",
   "metadata": {},
   "outputs": [
    {
     "data": {
      "text/html": [
       "<div>\n",
       "<style scoped>\n",
       "    .dataframe tbody tr th:only-of-type {\n",
       "        vertical-align: middle;\n",
       "    }\n",
       "\n",
       "    .dataframe tbody tr th {\n",
       "        vertical-align: top;\n",
       "    }\n",
       "\n",
       "    .dataframe thead th {\n",
       "        text-align: right;\n",
       "    }\n",
       "</style>\n",
       "<table border=\"1\" class=\"dataframe\">\n",
       "  <thead>\n",
       "    <tr style=\"text-align: right;\">\n",
       "      <th></th>\n",
       "      <th>text</th>\n",
       "    </tr>\n",
       "    <tr>\n",
       "      <th>OKPD2</th>\n",
       "      <th></th>\n",
       "    </tr>\n",
       "  </thead>\n",
       "  <tbody>\n",
       "    <tr>\n",
       "      <th>01.13.12.120</th>\n",
       "      <td>2000</td>\n",
       "    </tr>\n",
       "    <tr>\n",
       "      <th>01.13.41.110</th>\n",
       "      <td>2000</td>\n",
       "    </tr>\n",
       "    <tr>\n",
       "      <th>01.13.43.110</th>\n",
       "      <td>2000</td>\n",
       "    </tr>\n",
       "    <tr>\n",
       "      <th>01.13.49.110</th>\n",
       "      <td>2000</td>\n",
       "    </tr>\n",
       "    <tr>\n",
       "      <th>01.24.10.000</th>\n",
       "      <td>2000</td>\n",
       "    </tr>\n",
       "    <tr>\n",
       "      <th>...</th>\n",
       "      <td>...</td>\n",
       "    </tr>\n",
       "    <tr>\n",
       "      <th>86.90.19.110</th>\n",
       "      <td>2000</td>\n",
       "    </tr>\n",
       "    <tr>\n",
       "      <th>86.90.19.190</th>\n",
       "      <td>2000</td>\n",
       "    </tr>\n",
       "    <tr>\n",
       "      <th>95.11.10.110</th>\n",
       "      <td>2000</td>\n",
       "    </tr>\n",
       "    <tr>\n",
       "      <th>95.11.10.130</th>\n",
       "      <td>2000</td>\n",
       "    </tr>\n",
       "    <tr>\n",
       "      <th>95.11.10.190</th>\n",
       "      <td>2000</td>\n",
       "    </tr>\n",
       "  </tbody>\n",
       "</table>\n",
       "<p>100 rows × 1 columns</p>\n",
       "</div>"
      ],
      "text/plain": [
       "              text\n",
       "OKPD2             \n",
       "01.13.12.120  2000\n",
       "01.13.41.110  2000\n",
       "01.13.43.110  2000\n",
       "01.13.49.110  2000\n",
       "01.24.10.000  2000\n",
       "...            ...\n",
       "86.90.19.110  2000\n",
       "86.90.19.190  2000\n",
       "95.11.10.110  2000\n",
       "95.11.10.130  2000\n",
       "95.11.10.190  2000\n",
       "\n",
       "[100 rows x 1 columns]"
      ]
     },
     "execution_count": 16,
     "metadata": {},
     "output_type": "execute_result"
    }
   ],
   "source": [
    "final_sample.groupby('OKPD2').count()"
   ]
  },
  {
   "cell_type": "code",
   "execution_count": null,
   "id": "262bd271",
   "metadata": {},
   "outputs": [],
   "source": [
    "# final_sample.to_pickle(\"top_100_class_200k.pickle\")"
   ]
  }
 ],
 "metadata": {
  "kernelspec": {
   "display_name": "Python 3 (ipykernel)",
   "language": "python",
   "name": "python3"
  },
  "language_info": {
   "codemirror_mode": {
    "name": "ipython",
    "version": 3
   },
   "file_extension": ".py",
   "mimetype": "text/x-python",
   "name": "python",
   "nbconvert_exporter": "python",
   "pygments_lexer": "ipython3",
   "version": "3.11.5"
  }
 },
 "nbformat": 4,
 "nbformat_minor": 5
}
